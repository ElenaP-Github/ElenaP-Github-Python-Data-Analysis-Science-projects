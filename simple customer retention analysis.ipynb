{
 "cells": [
  {
   "cell_type": "markdown",
   "metadata": {},
   "source": [
    "# The following studies is a continuation of the first Customer retention analysis:\n",
    "\n",
    "In order to better understand how it works Cox regression in relation to study customer loyalty, I choose from \"Definitva_1.csv\" just three variables(Read Customer Analysis I).\n",
    "- Churn: binary variable. Whether the customer left or not the online service\n",
    "- Tenure: the number of months. The cases are filtered by this variable fom 0 months to 72 months.\n",
    "- SeniorCitizen: binary category, I decided to rename it as \"Subscription\". 0 for Subscription Standard and 1 for Subscription Premium.\n",
    "\n",
    "In my first study, [see in my github repository](https://github.com/ElenaP-Github/ORIGINAL-Python-Data-Analysis-projects/blob/main/Customer%20retention%20analysis%20Elena%20Pe%C3%B1a.rar), the proportional hazard regression didn't met the required assumptions because there were few cases that remain in the online service for more months. \n",
    "What does it exactly mean proportional rates in this regression?  The more time one is the online service, the less people are leaving the service? I will explain in the present simulation.\n",
    "\n",
    "In this occasion I did some changes in the database. I changed 0's for 1's in the subjects who stay more time in this online service. \n",
    "\n"
   ]
  },
  {
   "cell_type": "markdown",
   "metadata": {},
   "source": [
    "# Importing Packages"
   ]
  },
  {
   "cell_type": "code",
   "execution_count": 1,
   "metadata": {},
   "outputs": [],
   "source": [
    "#import BASIC LIBRARIES FOR PREPROCESSING AND EXPLORATORY ANALYSIS\n",
    "\n",
    "import numpy as np\n",
    "import pandas as pd\n",
    "import seaborn as sns\n",
    "import matplotlib.pyplot as plt\n",
    "%matplotlib inline\n",
    "from mpl_toolkits.mplot3d import Axes3D\n",
    "from matplotlib import cm\n",
    "plt.rcParams['figure.figsize'] = (16, 9)\n",
    "plt.style.use('ggplot')\n",
    "\n",
    "#### LIBRARY FOR SURVIVAL ANALYSIS \n",
    "\n",
    "from lifelines import*\n",
    "\n",
    "\n",
    "df = pd.read_excel (r'Definitiva_1_SCRA.xlsx', sheet_name='AIA_Churn_Modelling_Case_Study')\n",
    "df=df.iloc[:,1:]## I excluded ID variable, I don't need it. \n"
   ]
  },
  {
   "cell_type": "code",
   "execution_count": 2,
   "metadata": {},
   "outputs": [
    {
     "data": {
      "text/html": [
       "<div>\n",
       "<style scoped>\n",
       "    .dataframe tbody tr th:only-of-type {\n",
       "        vertical-align: middle;\n",
       "    }\n",
       "\n",
       "    .dataframe tbody tr th {\n",
       "        vertical-align: top;\n",
       "    }\n",
       "\n",
       "    .dataframe thead th {\n",
       "        text-align: right;\n",
       "    }\n",
       "</style>\n",
       "<table border=\"1\" class=\"dataframe\">\n",
       "  <thead>\n",
       "    <tr style=\"text-align: right;\">\n",
       "      <th></th>\n",
       "      <th>SeniorCitizen</th>\n",
       "      <th>Churn</th>\n",
       "      <th>tenure</th>\n",
       "    </tr>\n",
       "  </thead>\n",
       "  <tbody>\n",
       "    <tr>\n",
       "      <th>0</th>\n",
       "      <td>0</td>\n",
       "      <td>1</td>\n",
       "      <td>0</td>\n",
       "    </tr>\n",
       "    <tr>\n",
       "      <th>1</th>\n",
       "      <td>0</td>\n",
       "      <td>1</td>\n",
       "      <td>0</td>\n",
       "    </tr>\n",
       "    <tr>\n",
       "      <th>2</th>\n",
       "      <td>0</td>\n",
       "      <td>1</td>\n",
       "      <td>0</td>\n",
       "    </tr>\n",
       "    <tr>\n",
       "      <th>3</th>\n",
       "      <td>0</td>\n",
       "      <td>1</td>\n",
       "      <td>0</td>\n",
       "    </tr>\n",
       "    <tr>\n",
       "      <th>4</th>\n",
       "      <td>0</td>\n",
       "      <td>1</td>\n",
       "      <td>0</td>\n",
       "    </tr>\n",
       "  </tbody>\n",
       "</table>\n",
       "</div>"
      ],
      "text/plain": [
       "   SeniorCitizen  Churn  tenure\n",
       "0              0      1       0\n",
       "1              0      1       0\n",
       "2              0      1       0\n",
       "3              0      1       0\n",
       "4              0      1       0"
      ]
     },
     "execution_count": 2,
     "metadata": {},
     "output_type": "execute_result"
    }
   ],
   "source": [
    "df.head()"
   ]
  },
  {
   "cell_type": "markdown",
   "metadata": {},
   "source": [
    "# I rename SeniorCitizen"
   ]
  },
  {
   "cell_type": "code",
   "execution_count": 3,
   "metadata": {},
   "outputs": [],
   "source": [
    "df.columns.values\n",
    "df= df.rename(columns= {'SeniorCitizen': \"Subscription\"})"
   ]
  },
  {
   "cell_type": "markdown",
   "metadata": {},
   "source": [
    "# Exploratory Analysis\n",
    "\n",
    "In this ocassion I am going to do lees exploratory analysis. "
   ]
  },
  {
   "cell_type": "markdown",
   "metadata": {},
   "source": [
    "###### Tenure Mean by suscription"
   ]
  },
  {
   "cell_type": "code",
   "execution_count": 4,
   "metadata": {},
   "outputs": [
    {
     "data": {
      "text/html": [
       "<div>\n",
       "<style scoped>\n",
       "    .dataframe tbody tr th:only-of-type {\n",
       "        vertical-align: middle;\n",
       "    }\n",
       "\n",
       "    .dataframe tbody tr th {\n",
       "        vertical-align: top;\n",
       "    }\n",
       "\n",
       "    .dataframe thead th {\n",
       "        text-align: right;\n",
       "    }\n",
       "</style>\n",
       "<table border=\"1\" class=\"dataframe\">\n",
       "  <thead>\n",
       "    <tr style=\"text-align: right;\">\n",
       "      <th></th>\n",
       "      <th>Churn</th>\n",
       "      <th>tenure</th>\n",
       "    </tr>\n",
       "    <tr>\n",
       "      <th>Subscription</th>\n",
       "      <th></th>\n",
       "      <th></th>\n",
       "    </tr>\n",
       "  </thead>\n",
       "  <tbody>\n",
       "    <tr>\n",
       "      <th>0</th>\n",
       "      <td>0.26</td>\n",
       "      <td>32.09</td>\n",
       "    </tr>\n",
       "    <tr>\n",
       "      <th>1</th>\n",
       "      <td>0.42</td>\n",
       "      <td>33.65</td>\n",
       "    </tr>\n",
       "  </tbody>\n",
       "</table>\n",
       "</div>"
      ],
      "text/plain": [
       "              Churn  tenure\n",
       "Subscription               \n",
       "0              0.26   32.09\n",
       "1              0.42   33.65"
      ]
     },
     "execution_count": 4,
     "metadata": {},
     "output_type": "execute_result"
    }
   ],
   "source": [
    "c=np.round(df.groupby('Subscription').mean(),2);c # mean "
   ]
  },
  {
   "cell_type": "markdown",
   "metadata": {},
   "source": [
    "- The month mean of customers who have a Premium Subscription is 33.65\n",
    "\n",
    "- The month mean of customers who have a Standard Subscription is 32.09"
   ]
  },
  {
   "cell_type": "markdown",
   "metadata": {},
   "source": [
    "#### Suscription and Churn:  Contigency Table and relative bar chart"
   ]
  },
  {
   "cell_type": "code",
   "execution_count": 5,
   "metadata": {},
   "outputs": [],
   "source": [
    "df_1=df.copy()\n",
    "\n",
    "df_1[\"Churn\"]= df_1[\"Churn\"].map({0:\"No\", 1:\"Yes\"})\n",
    "df_1[\"Subscription\"]= df_1[\"Subscription\"].map({0:\"Standard\", 1:\"Premium\"})"
   ]
  },
  {
   "cell_type": "code",
   "execution_count": 6,
   "metadata": {},
   "outputs": [
    {
     "data": {
      "text/html": [
       "<div>\n",
       "<style scoped>\n",
       "    .dataframe tbody tr th:only-of-type {\n",
       "        vertical-align: middle;\n",
       "    }\n",
       "\n",
       "    .dataframe tbody tr th {\n",
       "        vertical-align: top;\n",
       "    }\n",
       "\n",
       "    .dataframe thead th {\n",
       "        text-align: right;\n",
       "    }\n",
       "</style>\n",
       "<table border=\"1\" class=\"dataframe\">\n",
       "  <thead>\n",
       "    <tr style=\"text-align: right;\">\n",
       "      <th>Churn</th>\n",
       "      <th>No</th>\n",
       "      <th>Yes</th>\n",
       "      <th>Total</th>\n",
       "    </tr>\n",
       "    <tr>\n",
       "      <th>Subscription</th>\n",
       "      <th></th>\n",
       "      <th></th>\n",
       "      <th></th>\n",
       "    </tr>\n",
       "  </thead>\n",
       "  <tbody>\n",
       "    <tr>\n",
       "      <th>Premium</th>\n",
       "      <td>10.63</td>\n",
       "      <td>7.60</td>\n",
       "      <td>18.23</td>\n",
       "    </tr>\n",
       "    <tr>\n",
       "      <th>Standard</th>\n",
       "      <td>60.39</td>\n",
       "      <td>21.38</td>\n",
       "      <td>81.77</td>\n",
       "    </tr>\n",
       "    <tr>\n",
       "      <th>Total</th>\n",
       "      <td>71.02</td>\n",
       "      <td>28.98</td>\n",
       "      <td>100.00</td>\n",
       "    </tr>\n",
       "  </tbody>\n",
       "</table>\n",
       "</div>"
      ],
      "text/plain": [
       "Churn            No    Yes   Total\n",
       "Subscription                      \n",
       "Premium       10.63   7.60   18.23\n",
       "Standard      60.39  21.38   81.77\n",
       "Total         71.02  28.98  100.00"
      ]
     },
     "execution_count": 6,
     "metadata": {},
     "output_type": "execute_result"
    },
    {
     "data": {
      "image/png": "[encoded data removed]",
      "text/plain": [
       "<Figure size 432x288 with 1 Axes>"
      ]
     },
     "metadata": {
      "needs_background": "light"
     },
     "output_type": "display_data"
    },
    {
     "data": {
      "text/plain": [
       "<Figure size 576x432 with 0 Axes>"
      ]
     },
     "metadata": {},
     "output_type": "display_data"
    }
   ],
   "source": [
    "\n",
    "x= pd.crosstab(index=df_1['Subscription'] ,\n",
    "            columns=df_1['Churn'], \n",
    "               rownames=[\"Subscription\"]).apply(lambda r: r/len(df_1) *100,axis=0).plot(kind='bar', stacked= True);\n",
    "plt.grid(True)\n",
    "plt.tight_layout() \n",
    "plt.yticks(fontsize=12)\n",
    "plt.xticks(rotation=360, fontsize=12);\n",
    "\n",
    "fig = plt.figure(figsize=(8,6));\n",
    "\n",
    "cont= pd.crosstab(index =df_1['Subscription'],\n",
    "            columns=df_1['Churn'],  margins=True, margins_name=\"Total\", rownames=[\"Subscription\"], colnames=[\"Churn\"]).apply(lambda r: r/len(df_1) *100,\n",
    "                               axis=0);np.round(cont, 2)\n"
   ]
  },
  {
   "cell_type": "markdown",
   "metadata": {},
   "source": [
    "* 18.23 % of total customers have Premium Subscription\n",
    "* 81.77 % of total customers have Standard Subscription\n",
    "\n",
    "\n",
    "\n",
    "\n",
    "\n",
    "###### A 28.98 % of total customers have stopped using the online service"
   ]
  },
  {
   "cell_type": "markdown",
   "metadata": {},
   "source": [
    "### Are the variables(by tenure) following a normal distribuition?"
   ]
  },
  {
   "cell_type": "code",
   "execution_count": 7,
   "metadata": {},
   "outputs": [
    {
     "name": "stdout",
     "output_type": "stream",
     "text": [
      "\n",
      "Statistics :0.84, p_value:0.0\n",
      "The distribution differs from normal\n",
      "\n",
      "Statistics :0.93, p_value:0.0\n",
      "The distribution differs from normal\n",
      "\n",
      "The group  who have a online Suscription and are censored \n",
      " Skewness:-0.3111425345417101 Kurtosis:-1.3472854207015348\n",
      "\n",
      "The group  who have a online Suscription and are censored \n",
      " Skewness:0.8783728049266444 Kurtosis:-0.38070260850720583\n"
     ]
    },
    {
     "data": {
      "image/png": "[encoded data removed]",
      "text/plain": [
       "<Figure size 864x720 with 1 Axes>"
      ]
     },
     "metadata": {
      "needs_background": "light"
     },
     "output_type": "display_data"
    }
   ],
   "source": [
    "mask=(df['Subscription']==1) & (df['Churn']==0)\n",
    "mask1=(df['Subscription']==1) & (df['Churn']==1)\n",
    "plt.figure()\n",
    "df.groupby(['Subscription','Churn'])['tenure'].plot(legend=True, figsize=(12,10))\n",
    "\n",
    "#Normality tests\n",
    "from scipy import stats\n",
    "def normal(col):\n",
    "    ks_test=stats.kstest(col,'norm')\n",
    "    print(f'\\nStatistics :{np.round(ks_test[0],2)}, p_value:{np.round(ks_test[1],2)}')                                             \n",
    "    if ks_test[1] < 0.05:\n",
    "        return  print('The distribution differs from normal')\n",
    "    else:\n",
    "        return  print('The distribution is normal')\n",
    "normal(df[mask1]['tenure'])\n",
    "normal(df[mask]['tenure'])\n",
    "\n",
    "def skew_kurt(col):\n",
    "    return print('\\nThe group  who have a online Suscription and are censored \\n Skewness:{0} Kurtosis:{1}'.format(stats.skew(col),stats.kurtosis(col)))\n",
    "\n",
    "skew_kurt(df[mask]['tenure'])\n",
    "skew_kurt(df[mask1]['tenure'])"
   ]
  },
  {
   "cell_type": "markdown",
   "metadata": {},
   "source": [
    "# Survival Analysis\n",
    "\n",
    "Survival analysis is a branch of statistics for analyzing the expected duration of time until one event happen, such as death in biological organisms and failure in mechanical systems. This topic is called reliability theory or reliability analysis in engineering, duration analysis or duration modelling in economics, and event history analysis in sociology. Survival analysis attempts to answer certain questions, such as what is the proportion of a population which will survive past a certain time? Of those that survive, at what rate will they die or fail? Can multiple causes of death or failure be taken into account? How do particular circumstances or characteristics increase or decrease the probability of survival?\n",
    "\n",
    "To answer such questions, it is necessary to define \"lifetime\".[...] More generally, survival analysis involves the modelling of time to event data; in this context, death or failure is considered an \"event\" in the survival analysis literature – traditionally only a single event occurs for each subject, after which the organism or mechanism is dead or broken. Recurring event or repeated event models relax that assumption. The study of recurring events is relevant in systems reliability, and in many areas of social sciences and medical research.\n",
    "\n",
    "[Wikipedia](https://en.wikipedia.org/wiki/Survival_analysis)\n"
   ]
  },
  {
   "cell_type": "markdown",
   "metadata": {},
   "source": [
    "## Kaplan Meier analysis\n",
    "\n",
    "\n",
    "The survival function S(t), is the probability that a subject survives longer than time t. S(t) is theoretically a smooth curve, but it is usually estimated using the Kaplan–Meier (KM) curve. The graph shows the KM plot for the aml data and can be interpreted as follows:\n",
    "\n",
    "    The x axis is time, from zero (when observation began) to the last observed time point.\n",
    "    The y axis is the proportion of subjects surviving. At time zero, 100% of the subjects are using the product without an event.\n",
    "    The solid line (similar to a staircase) shows the progression of event occurrences.\n",
    "    A vertical drop indicates an event. \n",
    "    \n",
    "\n",
    "Let's explore the customer behaviour without using different customer groups"
   ]
  },
  {
   "cell_type": "code",
   "execution_count": 8,
   "metadata": {},
   "outputs": [
    {
     "data": {
      "image/png": "[encoded data removed]",
      "text/plain": [
       "<Figure size 720x576 with 2 Axes>"
      ]
     },
     "metadata": {
      "needs_background": "light"
     },
     "output_type": "display_data"
    }
   ],
   "source": [
    "def plot_km_survf(data, t_col=\"t\", e_col=\"e\"):\n",
    "    from lifelines import KaplanMeierFitter\n",
    "    from lifelines.plotting import add_at_risk_counts\n",
    "    fig, ax = plt.subplots(figsize=(8, 6))\n",
    "    kmf = KaplanMeierFitter()\n",
    "    kmf.fit(data[t_col], event_observed=data[e_col], label=\"KM Survival Curve\", alpha=0.01)\n",
    "    kmf.plot(figsize=(10,8), ci_alpha= 0.01,show_censors=False, ci_legend=True, ci_force_lines=True, ax=ax); # the former graph is an internal lifelines plotting graph, which includes confidence intervals and a step-wise visualization\n",
    "    plt.ylim(0, 1.01)\n",
    "    plt.xlabel(\"Time\")\n",
    "    plt.ylabel(\"Probalities\")\n",
    "    plt.legend(loc=\"best\")\n",
    "    add_at_risk_counts(kmf, ax=ax)\n",
    "    plt.show() \n",
    "    \n",
    "plot_km_survf(df, t_col=\"tenure\", e_col=\"Churn\")"
   ]
  },
  {
   "cell_type": "markdown",
   "metadata": {},
   "source": [
    "A homogeneous slope indicates that the subjects are steadily leaving the online service, by the 70th month there is a vertical slope, it means a drastical humber change o f customers. \n",
    "\n",
    "\n",
    "- Events: Subjects that left the service\n",
    "\n",
    "- Censored:Participant is said to be censored when information on time to event is not available due to loss to follow-up or non-occurrence of outcome event before the trial end.\n",
    "\n",
    "- At risk: Number of cases that have the possibility of experiencing the event(Churn) in each time interval. \n",
    "\n",
    "By the 70th Month:\n",
    "- There are 532 customers at risk of leaving the online service.\n",
    "- The information about 4543 customers is not available. \n",
    "- 1968 customers have left the online service. \n",
    "- Around a 45% out of the customers are still using the product"
   ]
  },
  {
   "attachments": {
    "imagen.png": {
     "image/png": "[encoded data removed]"
    }
   },
   "cell_type": "markdown",
   "metadata": {},
   "source": [
    "## Proportional hazard regression and Breslow Estimation\n",
    "\n",
    "The Cox proportional-hazards model (Cox, 1972) is essentially a regression model commonly used statistical in medical research for investigating the association between the survival time of patients and one or more predictor variables.\n",
    "\n",
    "The Kaplan-Meier curves and logrank tests - are examples of univariate analysis. They describe the survival according to one factor under investigation, but ignore the impact of any others.\n",
    "\n",
    "Additionally, Kaplan-Meier curves and logrank tests are useful only when the predictor variable is categorical (e.g.: treatment A vs treatment B; males vs females). They don’t work easily for quantitative predictors such as gene expression, weight, or age.\n",
    "\n",
    "An alternative method is the Cox proportional hazards regression analysis, which works for both quantitative predictor variables and for categorical variables. Furthermore, the Cox regression model extends survival analysis methods to assess simultaneously the effect of several risk factors on survival time.\n",
    "\n",
    "The purpose of the model is to evaluate simultaneously the effect of several factors on survival. In other words, it allows us to examine how specified factors influence the rate of a particular event happening (e.g., infection, death) at a particular point in time. This rate is commonly referred as the hazard rate. Predictor variables (or factors) are usually termed covariates in the survival-analysis literature.\n",
    "\n",
    "![imagen.png](attachment:imagen.png)\n",
    "\n",
    "where,\n",
    "\n",
    "\n",
    "    t represents the survival time\n",
    "    h(t)is the hazard function determined by a set of p covariates (x1,x2,...,xp)\n",
    "    the coefficients (b1,b2,...,bp) measure the impact (i.e., the effect size) of covariates.\n",
    "    the term h0 is called the baseline hazard. It corresponds to the value of the hazard if all the xi are equal\n",
    "    to zero (the quantity exp(0) equals 1). The ‘t’ in h(t) reminds us that the hazard may vary over time.\n",
    "\n",
    "The Cox model can be written as a multiple linear regression of the logarithm of the hazard on the variables xi\n",
    ", with the baseline hazard being an ‘intercept’ term that varies with time.\n",
    "\n",
    "The quantities exp(bi)are called hazard ratios (HR). A value of bi greater than zero, or equivalently a hazard ratio greater than one, indicates that as the value of the ith covariate increases, the event hazard increases and thus the length of survival decreases.\n",
    "\n",
    "Put another way, a hazard ratio above 1 indicates a covariate that is positively associated with the event probability, and thus negatively associated with the length of survival.\n",
    "\n",
    "To sum up,\n",
    "\n",
    "    HR = 1: No effect\n",
    "    HR < 1: Reduction in the hazard\n",
    "    HR > 1: Increase in Hazard\n",
    "\n",
    "[Click here for reading more about it:](http://www.sthda.com/english/wiki/cox-proportional-hazards-model)"
   ]
  },
  {
   "cell_type": "code",
   "execution_count": 9,
   "metadata": {},
   "outputs": [
    {
     "data": {
      "text/html": [
       "<div>\n",
       "<style scoped>\n",
       "    .dataframe tbody tr th:only-of-type {\n",
       "        vertical-align: middle;\n",
       "    }\n",
       "\n",
       "    .dataframe tbody tr th {\n",
       "        vertical-align: top;\n",
       "    }\n",
       "\n",
       "    .dataframe thead th {\n",
       "        text-align: right;\n",
       "    }\n",
       "</style>\n",
       "<table border=\"1\" class=\"dataframe\">\n",
       "  <tbody>\n",
       "    <tr>\n",
       "      <th>model</th>\n",
       "      <td>lifelines.CoxPHFitter</td>\n",
       "    </tr>\n",
       "    <tr>\n",
       "      <th>duration col</th>\n",
       "      <td>'tenure'</td>\n",
       "    </tr>\n",
       "    <tr>\n",
       "      <th>event col</th>\n",
       "      <td>'Churn'</td>\n",
       "    </tr>\n",
       "    <tr>\n",
       "      <th>baseline estimation</th>\n",
       "      <td>breslow</td>\n",
       "    </tr>\n",
       "    <tr>\n",
       "      <th>number of observations</th>\n",
       "      <td>7043</td>\n",
       "    </tr>\n",
       "    <tr>\n",
       "      <th>number of events observed</th>\n",
       "      <td>2041</td>\n",
       "    </tr>\n",
       "    <tr>\n",
       "      <th>partial log-likelihood</th>\n",
       "      <td>-16899.01</td>\n",
       "    </tr>\n",
       "    <tr>\n",
       "      <th>time fit was run</th>\n",
       "      <td>2021-05-01 06:37:50 UTC</td>\n",
       "    </tr>\n",
       "  </tbody>\n",
       "</table>\n",
       "</div><table border=\"1\" class=\"dataframe\">\n",
       "  <thead>\n",
       "    <tr style=\"text-align: right;\">\n",
       "      <th style=\"min-width: 12px;\"></th>\n",
       "      <th style=\"min-width: 12px;\">coef</th>\n",
       "      <th style=\"min-width: 12px;\">exp(coef)</th>\n",
       "      <th style=\"min-width: 12px;\">se(coef)</th>\n",
       "      <th style=\"min-width: 12px;\">coef lower 95%</th>\n",
       "      <th style=\"min-width: 12px;\">coef upper 95%</th>\n",
       "      <th style=\"min-width: 12px;\">exp(coef) lower 95%</th>\n",
       "      <th style=\"min-width: 12px;\">exp(coef) upper 95%</th>\n",
       "      <th style=\"min-width: 12px;\">z</th>\n",
       "      <th style=\"min-width: 12px;\">p</th>\n",
       "      <th style=\"min-width: 12px;\">-log2(p)</th>\n",
       "    </tr>\n",
       "  </thead>\n",
       "  <tbody>\n",
       "    <tr>\n",
       "      <th>Subscription</th>\n",
       "      <td>0.44</td>\n",
       "      <td>1.55</td>\n",
       "      <td>0.05</td>\n",
       "      <td>0.34</td>\n",
       "      <td>0.54</td>\n",
       "      <td>1.41</td>\n",
       "      <td>1.71</td>\n",
       "      <td>8.74</td>\n",
       "      <td>&lt;0.005</td>\n",
       "      <td>58.63</td>\n",
       "    </tr>\n",
       "  </tbody>\n",
       "</table><br><div>\n",
       "<style scoped>\n",
       "    .dataframe tbody tr th:only-of-type {\n",
       "        vertical-align: middle;\n",
       "    }\n",
       "\n",
       "    .dataframe tbody tr th {\n",
       "        vertical-align: top;\n",
       "    }\n",
       "\n",
       "    .dataframe thead th {\n",
       "        text-align: right;\n",
       "    }\n",
       "</style>\n",
       "<table border=\"1\" class=\"dataframe\">\n",
       "  <tbody>\n",
       "    <tr>\n",
       "      <th>Concordance</th>\n",
       "      <td>0.53</td>\n",
       "    </tr>\n",
       "    <tr>\n",
       "      <th>Partial AIC</th>\n",
       "      <td>33800.01</td>\n",
       "    </tr>\n",
       "    <tr>\n",
       "      <th>log-likelihood ratio test</th>\n",
       "      <td>71.00 on 1 df</td>\n",
       "    </tr>\n",
       "    <tr>\n",
       "      <th>-log2(p) of ll-ratio test</th>\n",
       "      <td>54.64</td>\n",
       "    </tr>\n",
       "  </tbody>\n",
       "</table>\n",
       "</div>"
      ],
      "text/latex": [
       "\\begin{tabular}{lrrrrrrrrrr}\n",
       "\\toprule\n",
       "{} &  coef &  exp(coef) &  se(coef) &  coef lower 95\\% &  coef upper 95\\% &  exp(coef) lower 95\\% &  exp(coef) upper 95\\% &    z &    p &  -log2(p) \\\\\n",
       "covariate    &       &            &           &                 &                 &                      &                      &      &      &           \\\\\n",
       "\\midrule\n",
       "Subscription &  0.44 &       1.55 &      0.05 &            0.34 &            0.54 &                 1.41 &                 1.71 & 8.74 & 0.00 &     58.63 \\\\\n",
       "\\bottomrule\n",
       "\\end{tabular}\n"
      ],
      "text/plain": [
       "<lifelines.CoxPHFitter: fitted with 7043 total observations, 5002 right-censored observations>\n",
       "             duration col = 'tenure'\n",
       "                event col = 'Churn'\n",
       "      baseline estimation = breslow\n",
       "   number of observations = 7043\n",
       "number of events observed = 2041\n",
       "   partial log-likelihood = -16899.01\n",
       "         time fit was run = 2021-05-01 06:37:50 UTC\n",
       "\n",
       "---\n",
       "               coef  exp(coef)   se(coef)   coef lower 95%   coef upper 95%  exp(coef) lower 95%  exp(coef) upper 95%\n",
       "covariate                                                                                                            \n",
       "Subscription   0.44       1.55       0.05             0.34             0.54                 1.41                 1.71\n",
       "\n",
       "                z      p   -log2(p)\n",
       "covariate                          \n",
       "Subscription 8.74 <0.005      58.63\n",
       "---\n",
       "Concordance = 0.53\n",
       "Partial AIC = 33800.01\n",
       "log-likelihood ratio test = 71.00 on 1 df\n",
       "-log2(p) of ll-ratio test = 54.64"
      ]
     },
     "metadata": {},
     "output_type": "display_data"
    },
    {
     "name": "stdout",
     "output_type": "stream",
     "text": [
      "Proportional hazard assumption looks okay.\n"
     ]
    }
   ],
   "source": [
    "from lifelines import CoxPHFitter\n",
    "cph = CoxPHFitter().fit(df,\"tenure\", \"Churn\")\n",
    "cph.print_summary()\n",
    "axes = cph.check_assumptions(df,  p_value_threshold=0.01, advice=True, show_plots=True)"
   ]
  },
  {
   "cell_type": "markdown",
   "metadata": {},
   "source": [
    "Note: the Hazard ratio is 1.55 which indicates the Susbcription covariate is positively associated with the event  probability(the probability that the customer give up the online service)."
   ]
  },
  {
   "cell_type": "code",
   "execution_count": 10,
   "metadata": {},
   "outputs": [
    {
     "data": {
      "image/png": "[encoded data removed]",
      "text/plain": [
       "<Figure size 432x288 with 1 Axes>"
      ]
     },
     "metadata": {
      "needs_background": "light"
     },
     "output_type": "display_data"
    }
   ],
   "source": [
    "cph.plot();# confidence interval of Subscription. Proportional hazard assumption was met (p-value:>0.01)"
   ]
  },
  {
   "attachments": {
    "imagen.png": {
     "image/png": "[encoded data removed]"
    }
   },
   "cell_type": "markdown",
   "metadata": {},
   "source": [
    "## Which estimation is used for comparing the survival time of two or more groups?\n",
    "\n",
    "![imagen.png](attachment:imagen.png)"
   ]
  },
  {
   "cell_type": "markdown",
   "metadata": {},
   "source": [
    "The most commonly known test is a log-rank test (or Cox-Mantel test) The test determines the difference between expected and observed number of events in participants of two groups. It should be noted that the tests are powerful for stratified 2 x 2 tables, and when the number of groups is larger, the pairwise comparison of the hazard rates is carried out. The hazard ratio is an estimate of the hazard rate in the one group relative to the hazard rate in the other group. If the hazards are proportional, then the ratio will be constant at any interval of time. For example, if the risks of an event for individuals of the one group were twice higher than the hazards in another group at any point of time, the risks of an event would differ double at early or later times as well. Does it mean that we should find the hazard ratio for all individuals during the whole study period and then compare them at different points? İndeed we may do it in a short-term study, but the task is an arduous if there are too many time interval.The log-rank test has a very important assumption of proportional hazards to examine. İn a such situation the estimation of survival curves is very useful; one says that if the curves are parallel of the same shape the hazard ratio is constant and logrank test results are reliable.\n",
    "\n",
    "On the other hand, when the hazard ratio is not constant, the log-rank statistic loses its power to detect the difference in survival probabilities between the groups.12 Under such circumstances, the Gehan-Breslow-Wilcoxon test should be used.This procedure does not require the assumption of the proportional hazards to be met, as a result some scientists use it as the alternative to the Mantel-Haenszel statistic. Nevertheless, the later studies indicated that the Wilcohon test might yield more reliable results for the data with a constant hazard ratio as well. \n",
    "\n",
    "Researchers, however, also found that when the survival curves cross, neither test becomes reliable. An excessive focus on the proportional hazards in the data can lead to the improper use of the test. Hence, Tarone and Ware advise to pay more attention to the period when the most of the events were occurring rather than the equality of the hazards. The Gehan’s generalized Wilcohon test is said to give more weight to the early failures while the log-rank statistic is more suitable for the data with later events.\n",
    "\n",
    "[Click here for reading more about:](https://medcraveonline.com/BBIJ/choosing-statistical-tests-for-survival-analysis.html)"
   ]
  },
  {
   "cell_type": "markdown",
   "metadata": {},
   "source": [
    "### Differences between Breslow and log rank estimations: \n",
    "\n",
    "\n",
    "Log rank: wi = 1; i.e, all events are equally weighted.\n",
    "\n",
    "The log-rank test compares the survival times of two or more groups. \n",
    "\n",
    "The null hypothesis for a log-rank test is that the groups have the same survival. The expected number of subjects surviving at each time point in each is adjusted for the number of subjects at risk in the groups at each event time. The log-rank test determines if the observed number of events in each group is significantly different from the expected number. The formal test is based on a chi-squared statistic. When the log-rank statistic is large, it is evidence for a difference in the survival times between the groups. The log-rank statistic approximately has a chi-squared distribution with one degree of freedom, and the p-value is calculated using the chi-squared distribution."
   ]
  },
  {
   "cell_type": "markdown",
   "metadata": {},
   "source": [
    "Breslow: weight wi = r\n",
    "\n",
    "Meanwhile the null hypothesis for a Breslow test is supposed that the groups have different survival rates; the survival rates are weighted by the exposed number of subjects at the time the event occurs. Therefore, it means that the events at the beginning are more heavily weighted than those at the end, since the exposed number of subjects decreases as time goes by."
   ]
  },
  {
   "attachments": {},
   "cell_type": "markdown",
   "metadata": {},
   "source": [
    "Resource: Pardo, A.; Ruiz, M.A. (2012). Análisis de datos en ciencias sociales y de la Salud III."
   ]
  },
  {
   "cell_type": "markdown",
   "metadata": {},
   "source": [
    "# Log Rank\n",
    "\n",
    "Let's analyze by groups of Subscription"
   ]
  },
  {
   "cell_type": "code",
   "execution_count": 11,
   "metadata": {},
   "outputs": [
    {
     "data": {
      "text/html": [
       "<div>\n",
       "<style scoped>\n",
       "    .dataframe tbody tr th:only-of-type {\n",
       "        vertical-align: middle;\n",
       "    }\n",
       "\n",
       "    .dataframe tbody tr th {\n",
       "        vertical-align: top;\n",
       "    }\n",
       "\n",
       "    .dataframe thead th {\n",
       "        text-align: right;\n",
       "    }\n",
       "</style>\n",
       "<table border=\"1\" class=\"dataframe\">\n",
       "  <tbody>\n",
       "    <tr>\n",
       "      <th>t_0</th>\n",
       "      <td>-1</td>\n",
       "    </tr>\n",
       "    <tr>\n",
       "      <th>null_distribution</th>\n",
       "      <td>chi squared</td>\n",
       "    </tr>\n",
       "    <tr>\n",
       "      <th>degrees_of_freedom</th>\n",
       "      <td>1</td>\n",
       "    </tr>\n",
       "    <tr>\n",
       "      <th>test_name</th>\n",
       "      <td>logrank_test</td>\n",
       "    </tr>\n",
       "  </tbody>\n",
       "</table>\n",
       "</div><table border=\"1\" class=\"dataframe\">\n",
       "  <thead>\n",
       "    <tr style=\"text-align: right;\">\n",
       "      <th></th>\n",
       "      <th>test_statistic</th>\n",
       "      <th>p</th>\n",
       "      <th>-log2(p)</th>\n",
       "    </tr>\n",
       "  </thead>\n",
       "  <tbody>\n",
       "    <tr>\n",
       "      <th>0</th>\n",
       "      <td>77.89</td>\n",
       "      <td>&lt;0.005</td>\n",
       "      <td>59.67</td>\n",
       "    </tr>\n",
       "  </tbody>\n",
       "</table>"
      ],
      "text/latex": [
       "\\begin{tabular}{lrrr}\n",
       "\\toprule\n",
       "{} &  test\\_statistic &             p &   -log2(p) \\\\\n",
       "\\midrule\n",
       "0 &       77.892333 &  1.088129e-18 &  59.672855 \\\\\n",
       "\\bottomrule\n",
       "\\end{tabular}\n"
      ],
      "text/plain": [
       "<lifelines.StatisticalResult: logrank_test>\n",
       "               t_0 = -1\n",
       " null_distribution = chi squared\n",
       "degrees_of_freedom = 1\n",
       "         test_name = logrank_test\n",
       "\n",
       "---\n",
       " test_statistic      p  -log2(p)\n",
       "          77.89 <0.005     59.67"
      ]
     },
     "metadata": {},
     "output_type": "display_data"
    },
    {
     "data": {
      "image/png": "[encoded data removed]",
      "text/plain": [
       "<Figure size 432x288 with 2 Axes>"
      ]
     },
     "metadata": {
      "needs_background": "light"
     },
     "output_type": "display_data"
    }
   ],
   "source": [
    "#KM curve\n",
    "from lifelines import KaplanMeierFitter\n",
    "from lifelines.plotting import add_at_risk_counts\n",
    "group1=df[df['Subscription']==0]\n",
    "group2=df[df['Subscription']==1]\n",
    "T=group1['tenure']\n",
    "E=group1['Churn']\n",
    "T1=group2['tenure']\n",
    "E1=group2['Churn']\n",
    "\n",
    "kmf_1 = KaplanMeierFitter()\n",
    "kmf_2 = KaplanMeierFitter()\n",
    "\n",
    "ax = plt.subplot(111)\n",
    "ax_ = kmf_1.fit(T, E, label=\"Group 1- Standard Subscription\").plot(ax=ax)\n",
    "ax_1 = kmf_2.fit(T1, E1, label=\"Group 2 - Premium Subscription\").plot(ax=ax)\n",
    "add_at_risk_counts(kmf_1,kmf_2, ax=ax)\n",
    "\n",
    "#logrank_test\n",
    "from lifelines.statistics import logrank_test\n",
    "results=logrank_test(T,T1,event_observed_A=E, event_observed_B=E1)\n",
    "results.print_summary()"
   ]
  },
  {
   "cell_type": "markdown",
   "metadata": {},
   "source": [
    "The \"Premium Subscription\" curve is decreasing more quickly than the Standard one.\n",
    "\n",
    "And it's important to remember there are less Premium customers than Standard.\n",
    "\n",
    "By the 70th Month by groups:\n",
    "\n",
    "\n",
    "- The customers number which is at risk of leaving the online service.\n",
    "\n",
    "   - Standard:422 customers\n",
    "   \n",
    "   - Premium: 110 customers\n",
    "   \n",
    "   \n",
    "- The information about customers is not available by groups.\n",
    "\n",
    "   - Standard: 3888 customers\n",
    "   \n",
    "   - Premium: 655 customers\n",
    "   \n",
    "   \n",
    "- The number of customer which gave up already the service by groups.\n",
    "\n",
    "   - Standard: 1449 customers\n",
    "   \n",
    "   - Premium: 519 customers\n",
    "   \n",
    "   - 1968 customers have left the online service. The 28% out of total customer number have left the service\n",
    "   \n",
    "   \n",
    "+ Around a 50% out of the Standard customers are still using the product. (As I can see in survival plot)\n",
    "\n",
    "\n",
    "+ Around a 38% out of the Premium customers are still using the product.(As I can see in survival plot)"
   ]
  },
  {
   "cell_type": "markdown",
   "metadata": {},
   "source": [
    "In this kind of project, it's not needed to look for the best features, in order to explain better the customer loyalty;\n",
    "To sum up, I would say that log rank is a nice tool to observe differences between groups in terms of how long was the product used.\n",
    "\n",
    "In another hand, Proportional Hazard Regression is needed for detecting which other factors can have influence in predicting the Churn, considering already Tenure (or time in Months) as Churn covariate.\n",
    "\n",
    "It was worthy to make smaller this first project [Customer Analysis I](https://github.com/ElenaP-Github/ORIGINAL-Python-Data-Analysis-projects/blob/main/Customer%20retention%20analysis%20Elena%20Pe%C3%B1a.rar).\n",
    "\n",
    "The more simple, the better one can understand."
   ]
  },
  {
   "cell_type": "markdown",
   "metadata": {},
   "source": [
    "## Guidelines for next customer analysis (III)\n",
    "\n",
    "\n",
    "For a next stage, I want to take MonthlyCharges and Total Charges (from Customer Analysis I) and transform them in ordinal variables. Then I want to do again a multiple Cox regression, looking for new insights from the data.\n",
    "\n",
    "In Customer Analysis I: Log rank may have poorly performed due to there weren't stable proportional hazard rates. However, the survival rates were less vertical than the ones I have done in this present simulation."
   ]
  },
  {
   "cell_type": "markdown",
   "metadata": {},
   "source": [
    "# References"
   ]
  },
  {
   "cell_type": "markdown",
   "metadata": {},
   "source": [
    "https://medium.com/analytics-vidhya/log-rank-test-kaplan-meier-survival-curve-python-code-3fc78da644d5"
   ]
  }
 ],
 "metadata": {
  "kernelspec": {
   "display_name": "Python 3",
   "language": "python",
   "name": "python3"
  },
  "language_info": {
   "codemirror_mode": {
    "name": "ipython",
    "version": 3
   },
   "file_extension": ".py",
   "mimetype": "text/x-python",
   "name": "python",
   "nbconvert_exporter": "python",
   "pygments_lexer": "ipython3",
   "version": "3.7.4"
  }
 },
 "nbformat": 4,
 "nbformat_minor": 2
}
